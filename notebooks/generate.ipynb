{
 "cells": [
  {
   "cell_type": "code",
   "execution_count": null,
   "metadata": {
    "collapsed": true
   },
   "outputs": [],
   "source": [
    "import sys\n",
    "sys.path.append('..')\n",
    "import os\n",
    "import shutil\n",
    "import torch\n",
    "\n",
    "import matplotlib\n",
    "import matplotlib.cm as cm\n",
    "import matplotlib.pyplot as plt\n",
    "\n",
    "import numpy\n",
    "%matplotlib notebook\n",
    "\n",
    "from data import *\n",
    "from model import Loop\n",
    "from utils import generate_merlin_wav\n",
    "\n",
    "from torch.autograd import Variable\n",
    "from IPython.display import Audio\n",
    "\n",
    "def plot(data, labels, dict_file):\n",
    "    labels_dict = dict_file\n",
    "    labels_dict = {v: k for k, v in labels_dict.iteritems()}\n",
    "    labels = [labels_dict[x].decode('latin-1') for x in labels]\n",
    "\n",
    "    axarr = plt.subplot()\n",
    "    axarr.imshow(data.T, aspect='auto', origin='lower', interpolation='nearest', cmap=cm.viridis)\n",
    "    axarr.set_yticks(numpy.arange(0, len(data.T)))\n",
    "    axarr.set_yticklabels(labels, rotation=90)"
   ]
  },
  {
   "cell_type": "code",
   "execution_count": null,
   "metadata": {
    "collapsed": true
   },
   "outputs": [],
   "source": [
    "data_path = os.path.abspath('../data/vctk/numpy_features')\n",
    "norm_info = os.path.abspath('../data/vctk/norm_info/norm.dat')\n",
    "    \n",
    "train_dataset = NpzFolder(data_path)\n",
    "valid_dataset = NpzFolder(data_path + '_valid')"
   ]
  },
  {
   "cell_type": "code",
   "execution_count": null,
   "metadata": {},
   "outputs": [],
   "source": [
    "torch.cuda.set_device(1)\n",
    "\n",
    "checkpoint = '../models/vctk'\n",
    "weights = torch.load(checkpoint + '/bestmodel.pth')\n",
    "\n",
    "args = torch.load(checkpoint + '/args.pth')\n",
    "opt = args[0]\n",
    "opt.noise = 0\n",
    "\n",
    "model = Loop(opt)\n",
    "model.load_state_dict(weights)\n",
    "model.cuda();\n",
    "model.eval();"
   ]
  },
  {
   "cell_type": "code",
   "execution_count": null,
   "metadata": {
    "scrolled": false
   },
   "outputs": [],
   "source": [
    "ID = 5\n",
    "txt, feat, _ = valid_dataset[8]\n",
    "\n",
    "txt = Variable(txt.unsqueeze(1), volatile=True).cuda()\n",
    "feat = Variable(feat.unsqueeze(1), volatile=True).cuda()\n",
    "spkr = Variable(torch.LongTensor([ID]), volatile=True).cuda()\n",
    "\n",
    "out, attn = model([txt, spkr], feat)\n",
    "\n",
    "generate_merlin_wav(out.data.cpu().numpy(), \"/tmp/gen\", file_basename='test',\n",
    "                    norm_info_file=norm_info, do_post_filtering=True)\n",
    "Audio('/tmp/gen/test.wav')"
   ]
  },
  {
   "cell_type": "code",
   "execution_count": null,
   "metadata": {},
   "outputs": [],
   "source": [
    "plot(attn.squeeze().data.cpu().numpy(), txt[:,0].squeeze().data.tolist(), valid_dataset.dict)"
   ]
  },
  {
   "cell_type": "code",
   "execution_count": null,
   "metadata": {},
   "outputs": [],
   "source": [
    "generate_merlin_wav(feat.data.cpu().numpy(), \"/tmp/gen\", file_basename='test',\n",
    "                    norm_info_file=norm_info, do_post_filtering=True)\n",
    "Audio('/tmp/gen/test.wav')"
   ]
  },
  {
   "cell_type": "code",
   "execution_count": null,
   "metadata": {
    "collapsed": true
   },
   "outputs": [],
   "source": []
  }
 ],
 "metadata": {
  "kernelspec": {
   "display_name": "Python 2",
   "language": "python",
   "name": "python2"
  },
  "language_info": {
   "codemirror_mode": {
    "name": "ipython",
    "version": 2
   },
   "file_extension": ".py",
   "mimetype": "text/x-python",
   "name": "python",
   "nbconvert_exporter": "python",
   "pygments_lexer": "ipython2",
   "version": "2.7.13"
  }
 },
 "nbformat": 4,
 "nbformat_minor": 2
}
